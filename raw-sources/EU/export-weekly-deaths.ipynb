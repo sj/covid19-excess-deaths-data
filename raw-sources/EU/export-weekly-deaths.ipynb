{
 "cells": [
  {
   "cell_type": "code",
   "execution_count": 64,
   "metadata": {},
   "outputs": [],
   "source": [
    "import datetime\n",
    "import numpy as np\n",
    "import pandas as pd"
   ]
  },
  {
   "cell_type": "code",
   "execution_count": 44,
   "metadata": {},
   "outputs": [],
   "source": [
    "# Read the data from the tab separated file\n",
    "df_raw = pd.read_csv('demo_r_mweek3.tsv', sep='\\t')\n",
    "\n",
    "# Get the name of the comma separated column which needs to be expanded by splitting on the comma's\n",
    "col_to_split = df_raw.columns[0]\n",
    "\n",
    "# Expand that column and remove the old one\n",
    "df_raw[['unit', 'sex', 'age', 'country']] = df_raw[col_to_split].str.split(\",\", expand=True)\n",
    "df_raw.drop(col_to_split, axis=1, inplace=True)\n",
    "\n",
    "# Only select the rows where the sex is 'T' (so the sum of Male and Female)\n",
    "df_raw = df_raw[(df_raw['sex'] == 'T') & (df_raw['age'] == 'TOTAL')]"
   ]
  },
  {
   "cell_type": "code",
   "execution_count": 45,
   "metadata": {},
   "outputs": [],
   "source": [
    "# Only select the rows of countries, not of provinces or smaller\n",
    "mask = df_raw['country'].str.len() == 2\n",
    "df_raw = df_raw.loc[mask]\n",
    "\n",
    "# Optional: Add a column with the country name, rather than the country abbreviation\n",
    "# country_dict = {'AM': 'Armenia', 'AT': 'Austria', 'BE': 'Belgium', 'BG': 'Bulgaria', 'CH': 'Switzerland',\n",
    "#                 'CZ': 'Czech Republic', 'DK': 'Denmark', 'EE': 'Estonia', 'ES': 'Spain', 'FI': 'Finland',\n",
    "#                 'GE': 'Georgia', 'IS': 'Iceland', 'LI': 'Liechtenstein', 'LT': 'Lithuania', 'LU': 'Luxembourg',\n",
    "#                 'LV': 'Latvia', 'NL': 'Netherlands', 'PT': 'Portugal', 'RS': 'Serbia', 'SE': 'Sweden', 'SK': 'Slovakia'}\n",
    "# df_raw['country_name'] = df_raw['country'].replace(country_dict)\n",
    "\n",
    "# Drop the columns where only one values was selected for\n",
    "df_raw.drop(['unit', 'sex', 'age'], axis=1, inplace=True)\n",
    "\n",
    "# Replace all ': ' values in the dataframe with np.nan values\n",
    "df_raw.replace(': ', np.nan, inplace=True)\n",
    "\n",
    "# Remove all ' p' parts from the number of deaths (provisional numbers) Note: ' p' is removed from _all_ columns\n",
    "df_raw.replace(' p', '', regex=True, inplace=True)"
   ]
  },
  {
   "cell_type": "code",
   "execution_count": 46,
   "metadata": {},
   "outputs": [],
   "source": [
    "# Create a separate country dataframe to merge later with the stacked week values\n",
    "countries = df_raw[['country']]\n",
    "df_raw.drop('country', axis=1, inplace=True)"
   ]
  },
  {
   "cell_type": "code",
   "execution_count": 61,
   "metadata": {},
   "outputs": [],
   "source": [
    "# Stack the week values and make a dataframe with a single index from this\n",
    "df = df_raw.stack(dropna=False)\n",
    "df = df.reset_index(level=[0, 1])\n",
    "\n",
    "# Add the counties to this dataframe\n",
    "df = df.merge(countries, left_on='level_0', right_index=True)\n",
    "\n",
    "# Rename the week column and the deaths column\n",
    "df.rename({'level_1': 'week', 0: 'deaths'}, axis=1, inplace=True)\n",
    "\n",
    "# Drop the level_0 column (the original index)\n",
    "df.drop('level_0', axis=1, inplace=True)\n",
    "\n",
    "# Make sure the deaths column is of type float (to keep the np.NaN it cannot be int)\n",
    "df.deaths = df.deaths.astype(float)\n",
    "\n",
    "# Add source column and add the source to all rows\n",
    "df['source'] = 'https://data.europa.eu/euodp/en/data/dataset/WHum2Ir8F4KYmrrkj1sRQ'\n",
    "\n",
    "# Add filter and notes columns and leave them empty\n",
    "df['filter'] = ''\n",
    "df['notes'] = ''"
   ]
  },
  {
   "cell_type": "code",
   "execution_count": 82,
   "metadata": {},
   "outputs": [],
   "source": [
    "# Add the first day of the week as a column\n",
    "df['first_day'] = pd.to_datetime(df['week'] + '-1', format=\"%GW%V -%u\")  # The -1 is for the first day of the week\n",
    "\n",
    "# Add the last day of the week as a column\n",
    "df['last_day'] = pd.to_datetime(df['week'] + '-7', format=\"%GW%V -%u\")  # The -7 is for the first day of the week\n",
    "\n",
    "# TODO Remove possible weird weeks, spanning over multiple years"
   ]
  },
  {
   "cell_type": "code",
   "execution_count": null,
   "metadata": {},
   "outputs": [],
   "source": []
  }
 ],
 "metadata": {
  "kernelspec": {
   "display_name": "Python 3",
   "language": "python",
   "name": "python3"
  },
  "language_info": {
   "codemirror_mode": {
    "name": "ipython",
    "version": 3
   },
   "file_extension": ".py",
   "mimetype": "text/x-python",
   "name": "python",
   "nbconvert_exporter": "python",
   "pygments_lexer": "ipython3",
   "version": "3.7.4"
  }
 },
 "nbformat": 4,
 "nbformat_minor": 2
}
